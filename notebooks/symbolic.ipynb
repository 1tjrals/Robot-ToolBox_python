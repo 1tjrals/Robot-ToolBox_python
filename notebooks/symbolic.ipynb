{
 "cells": [
  {
   "cell_type": "code",
   "execution_count": 1,
   "metadata": {},
   "outputs": [],
   "source": [
    "import numpy as np\n",
    "import math\n",
    "import roboticstoolbox as rtb\n",
    "from spatialmath.base import *\n",
    "from spatialmath import SE3\n",
    "import spatialmath.base.symbolic as sym\n",
    "\n",
    "%matplotlib notebook"
   ]
  },
  {
   "cell_type": "markdown",
   "metadata": {},
   "source": [
    "We use the Spatial Math Toolbox wrapper of SymPy which is `spatialmath.base.symbolic` which is imported above.\n",
    "\n",
    "## Creating a symbolic variable\n",
    "We will first create a symbolic variable"
   ]
  },
  {
   "cell_type": "code",
   "execution_count": 2,
   "metadata": {},
   "outputs": [],
   "source": [
    "theta = sym.symbol('theta')"
   ]
  },
  {
   "cell_type": "code",
   "execution_count": 3,
   "metadata": {},
   "outputs": [
    {
     "data": {
      "text/latex": [
       "$\\displaystyle \\theta$"
      ],
      "text/plain": [
       "theta"
      ]
     },
     "execution_count": 3,
     "metadata": {},
     "output_type": "execute_result"
    }
   ],
   "source": [
    "theta"
   ]
  },
  {
   "cell_type": "markdown",
   "metadata": {},
   "source": [
    "which displays as a Greek letter, it has the type"
   ]
  },
  {
   "cell_type": "code",
   "execution_count": 4,
   "metadata": {},
   "outputs": [
    {
     "data": {
      "text/plain": [
       "sympy.core.symbol.Symbol"
      ]
     },
     "execution_count": 4,
     "metadata": {},
     "output_type": "execute_result"
    }
   ],
   "source": [
    "type(theta)"
   ]
  },
  {
   "cell_type": "markdown",
   "metadata": {},
   "source": [
    "The function specifies that the symbolic variables are real valued by default, which will simplify subsequent simplification steps"
   ]
  },
  {
   "cell_type": "code",
   "execution_count": 5,
   "metadata": {},
   "outputs": [
    {
     "data": {
      "text/plain": [
       "True"
      ]
     },
     "execution_count": 5,
     "metadata": {},
     "output_type": "execute_result"
    }
   ],
   "source": [
    "theta.is_real"
   ]
  },
  {
   "cell_type": "markdown",
   "metadata": {},
   "source": [
    "We can test if a variable is symbolic"
   ]
  },
  {
   "cell_type": "code",
   "execution_count": 6,
   "metadata": {},
   "outputs": [
    {
     "data": {
      "text/plain": [
       "True"
      ]
     },
     "execution_count": 6,
     "metadata": {},
     "output_type": "execute_result"
    }
   ],
   "source": [
    "sym.issymbol(theta)"
   ]
  },
  {
   "cell_type": "code",
   "execution_count": 7,
   "metadata": {},
   "outputs": [
    {
     "data": {
      "text/plain": [
       "False"
      ]
     },
     "execution_count": 7,
     "metadata": {},
     "output_type": "execute_result"
    }
   ],
   "source": [
    "sym.issymbol(3.7)"
   ]
  },
  {
   "cell_type": "markdown",
   "metadata": {},
   "source": [
    "## Symbolics with the Spatial Math Toolbox\n",
    "Many Spatial Toolbox functions handle symbolic variables"
   ]
  },
  {
   "cell_type": "code",
   "execution_count": 8,
   "metadata": {},
   "outputs": [
    {
     "data": {
      "text/plain": [
       "array([[cos(theta), -sin(theta)],\n",
       "       [sin(theta), cos(theta)]], dtype=object)"
      ]
     },
     "execution_count": 8,
     "metadata": {},
     "output_type": "execute_result"
    }
   ],
   "source": [
    "R = rot2(theta)\n",
    "R"
   ]
  },
  {
   "cell_type": "markdown",
   "metadata": {},
   "source": [
    "and return a NumPy array with symbolic values.  \n",
    "\n",
    "The 3D case is similar"
   ]
  },
  {
   "cell_type": "code",
   "execution_count": 9,
   "metadata": {},
   "outputs": [
    {
     "data": {
      "text/plain": [
       "array([[1, 0, 0],\n",
       "       [0, cos(theta), -sin(theta)],\n",
       "       [0, sin(theta), cos(theta)]], dtype=object)"
      ]
     },
     "execution_count": 9,
     "metadata": {},
     "output_type": "execute_result"
    }
   ],
   "source": [
    "R = rotx(theta)\n",
    "R"
   ]
  },
  {
   "cell_type": "code",
   "execution_count": 10,
   "metadata": {},
   "outputs": [
    {
     "data": {
      "text/plain": [
       "array([[1, 0, 0, 0],\n",
       "       [0, cos(theta), -sin(theta), 0],\n",
       "       [0, sin(theta), cos(theta), 0],\n",
       "       [0, 0, 0, 1]], dtype=object)"
      ]
     },
     "execution_count": 10,
     "metadata": {},
     "output_type": "execute_result"
    }
   ],
   "source": [
    "T = trotx(theta)\n",
    "T"
   ]
  },
  {
   "cell_type": "markdown",
   "metadata": {},
   "source": [
    "The elements of this NumPy array are all objects, as indicated by the `dtype`.  However when we index the elements, they will be converted back to numeric types if possible"
   ]
  },
  {
   "cell_type": "code",
   "execution_count": 11,
   "metadata": {},
   "outputs": [
    {
     "data": {
      "text/plain": [
       "int"
      ]
     },
     "execution_count": 11,
     "metadata": {},
     "output_type": "execute_result"
    }
   ],
   "source": [
    "type(T[0,0])"
   ]
  },
  {
   "cell_type": "code",
   "execution_count": 12,
   "metadata": {},
   "outputs": [
    {
     "data": {
      "text/plain": [
       "cos"
      ]
     },
     "execution_count": 12,
     "metadata": {},
     "output_type": "execute_result"
    }
   ],
   "source": [
    "type(T[1,1])"
   ]
  },
  {
   "cell_type": "markdown",
   "metadata": {},
   "source": [
    "We can perform arithmetic on such matrices, for example"
   ]
  },
  {
   "cell_type": "code",
   "execution_count": 13,
   "metadata": {},
   "outputs": [
    {
     "data": {
      "text/plain": [
       "array([[1, 0, 0, 0],\n",
       "       [0, -sin(theta)**2 + cos(theta)**2, -2*sin(theta)*cos(theta), 0],\n",
       "       [0, 2*sin(theta)*cos(theta), -sin(theta)**2 + cos(theta)**2, 0],\n",
       "       [0, 0, 0, 1]], dtype=object)"
      ]
     },
     "execution_count": 13,
     "metadata": {},
     "output_type": "execute_result"
    }
   ],
   "source": [
    "T @ T"
   ]
  },
  {
   "cell_type": "markdown",
   "metadata": {},
   "source": [
    "## Pose classes\n",
    "The symbolic capability extends to the pose classes"
   ]
  },
  {
   "cell_type": "code",
   "execution_count": 14,
   "metadata": {},
   "outputs": [
    {
     "data": {
      "text/plain": [
       "SE3:  \u001b[38;5;1m 1          \u001b[0m\u001b[38;5;1m 0          \u001b[0m\u001b[38;5;1m 0          \u001b[0m\u001b[38;5;4m 0          \u001b[0m  \u001b[0m\n",
       "      \u001b[38;5;1m 0          \u001b[0m\u001b[38;5;1mcos(theta)  \u001b[0m\u001b[38;5;1m-sin(theta) \u001b[0m\u001b[38;5;4m 0          \u001b[0m  \u001b[0m\n",
       "      \u001b[38;5;1m 0          \u001b[0m\u001b[38;5;1msin(theta)  \u001b[0m\u001b[38;5;1mcos(theta)  \u001b[0m\u001b[38;5;4m 0          \u001b[0m  \u001b[0m\n",
       "      \u001b[38;5;244m 0          \u001b[0m\u001b[38;5;244m 0          \u001b[0m\u001b[38;5;244m 0          \u001b[0m\u001b[38;5;244m 1          \u001b[0m  \u001b[0m\n",
       "    "
      ]
     },
     "execution_count": 14,
     "metadata": {},
     "output_type": "execute_result"
    }
   ],
   "source": [
    "T = SE3.Rx(theta)\n",
    "T"
   ]
  },
  {
   "cell_type": "code",
   "execution_count": 15,
   "metadata": {},
   "outputs": [
    {
     "data": {
      "text/plain": [
       "SE3:  \u001b[38;5;1m 1          \u001b[0m\u001b[38;5;1m0           \u001b[0m\u001b[38;5;1m0           \u001b[0m\u001b[38;5;4m 0          \u001b[0m  \u001b[0m\n",
       "      \u001b[38;5;1m0           \u001b[0m\u001b[38;5;1m-sin(theta)**2 + cos(theta)**2\u001b[0m\u001b[38;5;1m-2*sin(theta)*cos(theta)\u001b[0m\u001b[38;5;4m0           \u001b[0m  \u001b[0m\n",
       "      \u001b[38;5;1m0           \u001b[0m\u001b[38;5;1m2*sin(theta)*cos(theta)\u001b[0m\u001b[38;5;1m-sin(theta)**2 + cos(theta)**2\u001b[0m\u001b[38;5;4m0           \u001b[0m  \u001b[0m\n",
       "      \u001b[38;5;244m 0          \u001b[0m\u001b[38;5;244m0           \u001b[0m\u001b[38;5;244m0           \u001b[0m\u001b[38;5;244m 1          \u001b[0m  \u001b[0m\n",
       "    "
      ]
     },
     "execution_count": 15,
     "metadata": {},
     "output_type": "execute_result"
    }
   ],
   "source": [
    "T2 = T * T\n",
    "T2"
   ]
  },
  {
   "cell_type": "markdown",
   "metadata": {},
   "source": [
    "but the colored layout is problematic."
   ]
  },
  {
   "cell_type": "markdown",
   "metadata": {},
   "source": [
    "## Robot forward kinematics"
   ]
  },
  {
   "cell_type": "markdown",
   "metadata": {},
   "source": [
    "We will create a symbolic version of the robot model"
   ]
  },
  {
   "cell_type": "code",
   "execution_count": 16,
   "metadata": {},
   "outputs": [],
   "source": [
    "puma = rtb.models.DH.Puma560(symbolic=True)"
   ]
  },
  {
   "cell_type": "code",
   "execution_count": 17,
   "metadata": {},
   "outputs": [
    {
     "name": "stdout",
     "output_type": "stream",
     "text": [
      "┏━━━┳━━━━━━━━━┳━━━━━━━━┳━━━━━━━┓\n",
      "┃θⱼ ┃   dⱼ    ┃   aⱼ   ┃  ⍺ⱼ   ┃\n",
      "┣━━━╋━━━━━━━━━╋━━━━━━━━╋━━━━━━━┫\n",
      "┃q1 ┃   0.672 ┃      0 ┃  \u001b[38;5;1mpi/2\u001b[0m ┃\n",
      "┃q2 ┃       0 ┃ 0.4318 ┃     \u001b[38;5;1m0\u001b[0m ┃\n",
      "┃q3 ┃ 0.15005 ┃ 0.0203 ┃ \u001b[38;5;1m-pi/2\u001b[0m ┃\n",
      "┃q4 ┃  0.4318 ┃      0 ┃  \u001b[38;5;1mpi/2\u001b[0m ┃\n",
      "┃q5 ┃       0 ┃      0 ┃ \u001b[38;5;1m-pi/2\u001b[0m ┃\n",
      "┃q6 ┃       0 ┃      0 ┃     \u001b[38;5;1m0\u001b[0m ┃\n",
      "┗━━━┻━━━━━━━━━┻━━━━━━━━┻━━━━━━━┛\n",
      "\n",
      "┌───┬────────────────────────────┐\n",
      "│qz │ 0°, 0°, 0°, 0°, 0°, 0°     │\n",
      "│qr │ 0°, 90°, -90°, 0°, 0°, 0°  │\n",
      "│qs │ 0°, 0°, -90°, 0°, 0°, 0°   │\n",
      "│qn │ 0°, 45°, 180°, 0°, 45°, 0° │\n",
      "└───┴────────────────────────────┘\n",
      "\n"
     ]
    }
   ],
   "source": [
    "print(puma)"
   ]
  },
  {
   "cell_type": "markdown",
   "metadata": {},
   "source": [
    "We see that the $\\alpha_j$ values are now given in radians and are colored red.  This means the value is a symbolic expression, for the first link it is $\\pi/2$ which is a precise value, compared to the non-symbolic case which is a floating point number 1.5707963267948966 that only  approximates $\\pi/2$."
   ]
  },
  {
   "cell_type": "markdown",
   "metadata": {},
   "source": [
    "The next thing we need to do is create a vector of joint coordinates which are all symbols"
   ]
  },
  {
   "cell_type": "code",
   "execution_count": 18,
   "metadata": {},
   "outputs": [
    {
     "data": {
      "text/plain": [
       "(q_0, q_1, q_2, q_3, q_4, q_5)"
      ]
     },
     "execution_count": 18,
     "metadata": {},
     "output_type": "execute_result"
    }
   ],
   "source": [
    "q = sym.symbol('q_:6')\n",
    "q"
   ]
  },
  {
   "cell_type": "markdown",
   "metadata": {},
   "source": [
    "We use the underscore, because the value of the symbol is pretty printed by SymPy as a subscript (just as it is with LaTeX math notation)"
   ]
  },
  {
   "cell_type": "code",
   "execution_count": 19,
   "metadata": {},
   "outputs": [
    {
     "data": {
      "text/latex": [
       "$\\displaystyle q_{0}$"
      ],
      "text/plain": [
       "q_0"
      ]
     },
     "execution_count": 19,
     "metadata": {},
     "output_type": "execute_result"
    }
   ],
   "source": [
    "q[0]"
   ]
  },
  {
   "cell_type": "markdown",
   "metadata": {},
   "source": [
    "We are now set to compute the forward kinematics which will be a matrix whose elements will be complicated expressions of symbolic joint variables and kinematic parameters"
   ]
  },
  {
   "cell_type": "code",
   "execution_count": 20,
   "metadata": {},
   "outputs": [
    {
     "data": {
      "text/plain": [
       "SE3:  \u001b[38;5;1m(((-sin(q_1)*sin(q_2)*cos(q_0) + cos(q_0)*cos(q_1)*cos(q_2))*cos(q_3) - sin(q_0)*sin(q_3))*cos(q_4) + (-sin(q_1)*cos(q_0)*cos(q_2) - sin(q_2)*cos(q_0)*cos(q_1))*sin(q_4))*cos(q_5) + (-(-sin(q_1)*sin(q_2)*cos(q_0) + cos(q_0)*cos(q_1)*cos(q_2))*sin(q_3) - sin(q_0)*cos(q_3))*sin(q_5)\u001b[0m\u001b[38;5;1m-(((-sin(q_1)*sin(q_2)*cos(q_0) + cos(q_0)*cos(q_1)*cos(q_2))*cos(q_3) - sin(q_0)*sin(q_3))*cos(q_4) + (-sin(q_1)*cos(q_0)*cos(q_2) - sin(q_2)*cos(q_0)*cos(q_1))*sin(q_4))*sin(q_5) + (-(-sin(q_1)*sin(q_2)*cos(q_0) + cos(q_0)*cos(q_1)*cos(q_2))*sin(q_3) - sin(q_0)*cos(q_3))*cos(q_5)\u001b[0m\u001b[38;5;1m-((-sin(q_1)*sin(q_2)*cos(q_0) + cos(q_0)*cos(q_1)*cos(q_2))*cos(q_3) - sin(q_0)*sin(q_3))*sin(q_4) + (-sin(q_1)*cos(q_0)*cos(q_2) - sin(q_2)*cos(q_0)*cos(q_1))*cos(q_4)\u001b[0m\u001b[38;5;4m0.15005*sin(q_0) - 0.0203*sin(q_1)*sin(q_2)*cos(q_0) - 0.4318*sin(q_1)*cos(q_0)*cos(q_2) - 0.4318*sin(q_2)*cos(q_0)*cos(q_1) + 0.0203*cos(q_0)*cos(q_1)*cos(q_2) + 0.4318*cos(q_0)*cos(q_1)\u001b[0m  \u001b[0m\n",
       "      \u001b[38;5;1m(((-sin(q_0)*sin(q_1)*sin(q_2) + sin(q_0)*cos(q_1)*cos(q_2))*cos(q_3) + sin(q_3)*cos(q_0))*cos(q_4) + (-sin(q_0)*sin(q_1)*cos(q_2) - sin(q_0)*sin(q_2)*cos(q_1))*sin(q_4))*cos(q_5) + (-(-sin(q_0)*sin(q_1)*sin(q_2) + sin(q_0)*cos(q_1)*cos(q_2))*sin(q_3) + cos(q_0)*cos(q_3))*sin(q_5)\u001b[0m\u001b[38;5;1m-(((-sin(q_0)*sin(q_1)*sin(q_2) + sin(q_0)*cos(q_1)*cos(q_2))*cos(q_3) + sin(q_3)*cos(q_0))*cos(q_4) + (-sin(q_0)*sin(q_1)*cos(q_2) - sin(q_0)*sin(q_2)*cos(q_1))*sin(q_4))*sin(q_5) + (-(-sin(q_0)*sin(q_1)*sin(q_2) + sin(q_0)*cos(q_1)*cos(q_2))*sin(q_3) + cos(q_0)*cos(q_3))*cos(q_5)\u001b[0m\u001b[38;5;1m-((-sin(q_0)*sin(q_1)*sin(q_2) + sin(q_0)*cos(q_1)*cos(q_2))*cos(q_3) + sin(q_3)*cos(q_0))*sin(q_4) + (-sin(q_0)*sin(q_1)*cos(q_2) - sin(q_0)*sin(q_2)*cos(q_1))*cos(q_4)\u001b[0m\u001b[38;5;4m-0.0203*sin(q_0)*sin(q_1)*sin(q_2) - 0.4318*sin(q_0)*sin(q_1)*cos(q_2) - 0.4318*sin(q_0)*sin(q_2)*cos(q_1) + 0.0203*sin(q_0)*cos(q_1)*cos(q_2) + 0.4318*sin(q_0)*cos(q_1) - 0.15005*cos(q_0)\u001b[0m  \u001b[0m\n",
       "      \u001b[38;5;1m((-sin(q_1)*sin(q_2) + cos(q_1)*cos(q_2))*sin(q_4) + (sin(q_1)*cos(q_2) + sin(q_2)*cos(q_1))*cos(q_3)*cos(q_4))*cos(q_5) - (sin(q_1)*cos(q_2) + sin(q_2)*cos(q_1))*sin(q_3)*sin(q_5)\u001b[0m\u001b[38;5;1m-((-sin(q_1)*sin(q_2) + cos(q_1)*cos(q_2))*sin(q_4) + (sin(q_1)*cos(q_2) + sin(q_2)*cos(q_1))*cos(q_3)*cos(q_4))*sin(q_5) - (sin(q_1)*cos(q_2) + sin(q_2)*cos(q_1))*sin(q_3)*cos(q_5)\u001b[0m\u001b[38;5;1m(-sin(q_1)*sin(q_2) + cos(q_1)*cos(q_2))*cos(q_4) - (sin(q_1)*cos(q_2) + sin(q_2)*cos(q_1))*sin(q_4)*cos(q_3)\u001b[0m\u001b[38;5;4m-0.4318*sin(q_1)*sin(q_2) + 0.0203*sin(q_1)*cos(q_2) + 0.4318*sin(q_1) + 0.0203*sin(q_2)*cos(q_1) + 0.4318*cos(q_1)*cos(q_2) + 0.672\u001b[0m  \u001b[0m\n",
       "      \u001b[38;5;244m0           \u001b[0m\u001b[38;5;244m0           \u001b[0m\u001b[38;5;244m0           \u001b[0m\u001b[38;5;244m1           \u001b[0m  \u001b[0m\n",
       "    "
      ]
     },
     "execution_count": 20,
     "metadata": {},
     "output_type": "execute_result"
    }
   ],
   "source": [
    "T = puma.fkine(q)\n",
    "T"
   ]
  },
  {
   "cell_type": "markdown",
   "metadata": {},
   "source": [
    "The color coding helps us identify the rotational and translational parts, but the format is not very readable.  We can display the underlying NumPy array"
   ]
  },
  {
   "cell_type": "code",
   "execution_count": 21,
   "metadata": {},
   "outputs": [
    {
     "data": {
      "text/plain": [
       "array([[(((-sin(q_1)*sin(q_2)*cos(q_0) + cos(q_0)*cos(q_1)*cos(q_2))*cos(q_3) - sin(q_0)*sin(q_3))*cos(q_4) + (-sin(q_1)*cos(q_0)*cos(q_2) - sin(q_2)*cos(q_0)*cos(q_1))*sin(q_4))*cos(q_5) + (-(-sin(q_1)*sin(q_2)*cos(q_0) + cos(q_0)*cos(q_1)*cos(q_2))*sin(q_3) - sin(q_0)*cos(q_3))*sin(q_5),\n",
       "        -(((-sin(q_1)*sin(q_2)*cos(q_0) + cos(q_0)*cos(q_1)*cos(q_2))*cos(q_3) - sin(q_0)*sin(q_3))*cos(q_4) + (-sin(q_1)*cos(q_0)*cos(q_2) - sin(q_2)*cos(q_0)*cos(q_1))*sin(q_4))*sin(q_5) + (-(-sin(q_1)*sin(q_2)*cos(q_0) + cos(q_0)*cos(q_1)*cos(q_2))*sin(q_3) - sin(q_0)*cos(q_3))*cos(q_5),\n",
       "        -((-sin(q_1)*sin(q_2)*cos(q_0) + cos(q_0)*cos(q_1)*cos(q_2))*cos(q_3) - sin(q_0)*sin(q_3))*sin(q_4) + (-sin(q_1)*cos(q_0)*cos(q_2) - sin(q_2)*cos(q_0)*cos(q_1))*cos(q_4),\n",
       "        0.15005*sin(q_0) - 0.0203*sin(q_1)*sin(q_2)*cos(q_0) - 0.4318*sin(q_1)*cos(q_0)*cos(q_2) - 0.4318*sin(q_2)*cos(q_0)*cos(q_1) + 0.0203*cos(q_0)*cos(q_1)*cos(q_2) + 0.4318*cos(q_0)*cos(q_1)],\n",
       "       [(((-sin(q_0)*sin(q_1)*sin(q_2) + sin(q_0)*cos(q_1)*cos(q_2))*cos(q_3) + sin(q_3)*cos(q_0))*cos(q_4) + (-sin(q_0)*sin(q_1)*cos(q_2) - sin(q_0)*sin(q_2)*cos(q_1))*sin(q_4))*cos(q_5) + (-(-sin(q_0)*sin(q_1)*sin(q_2) + sin(q_0)*cos(q_1)*cos(q_2))*sin(q_3) + cos(q_0)*cos(q_3))*sin(q_5),\n",
       "        -(((-sin(q_0)*sin(q_1)*sin(q_2) + sin(q_0)*cos(q_1)*cos(q_2))*cos(q_3) + sin(q_3)*cos(q_0))*cos(q_4) + (-sin(q_0)*sin(q_1)*cos(q_2) - sin(q_0)*sin(q_2)*cos(q_1))*sin(q_4))*sin(q_5) + (-(-sin(q_0)*sin(q_1)*sin(q_2) + sin(q_0)*cos(q_1)*cos(q_2))*sin(q_3) + cos(q_0)*cos(q_3))*cos(q_5),\n",
       "        -((-sin(q_0)*sin(q_1)*sin(q_2) + sin(q_0)*cos(q_1)*cos(q_2))*cos(q_3) + sin(q_3)*cos(q_0))*sin(q_4) + (-sin(q_0)*sin(q_1)*cos(q_2) - sin(q_0)*sin(q_2)*cos(q_1))*cos(q_4),\n",
       "        -0.0203*sin(q_0)*sin(q_1)*sin(q_2) - 0.4318*sin(q_0)*sin(q_1)*cos(q_2) - 0.4318*sin(q_0)*sin(q_2)*cos(q_1) + 0.0203*sin(q_0)*cos(q_1)*cos(q_2) + 0.4318*sin(q_0)*cos(q_1) - 0.15005*cos(q_0)],\n",
       "       [((-sin(q_1)*sin(q_2) + cos(q_1)*cos(q_2))*sin(q_4) + (sin(q_1)*cos(q_2) + sin(q_2)*cos(q_1))*cos(q_3)*cos(q_4))*cos(q_5) - (sin(q_1)*cos(q_2) + sin(q_2)*cos(q_1))*sin(q_3)*sin(q_5),\n",
       "        -((-sin(q_1)*sin(q_2) + cos(q_1)*cos(q_2))*sin(q_4) + (sin(q_1)*cos(q_2) + sin(q_2)*cos(q_1))*cos(q_3)*cos(q_4))*sin(q_5) - (sin(q_1)*cos(q_2) + sin(q_2)*cos(q_1))*sin(q_3)*cos(q_5),\n",
       "        (-sin(q_1)*sin(q_2) + cos(q_1)*cos(q_2))*cos(q_4) - (sin(q_1)*cos(q_2) + sin(q_2)*cos(q_1))*sin(q_4)*cos(q_3),\n",
       "        -0.4318*sin(q_1)*sin(q_2) + 0.0203*sin(q_1)*cos(q_2) + 0.4318*sin(q_1) + 0.0203*sin(q_2)*cos(q_1) + 0.4318*cos(q_1)*cos(q_2) + 0.672],\n",
       "       [0, 0, 0, 1]], dtype=object)"
      ]
     },
     "execution_count": 21,
     "metadata": {},
     "output_type": "execute_result"
    }
   ],
   "source": [
    "T.A"
   ]
  },
  {
   "cell_type": "markdown",
   "metadata": {},
   "source": [
    "which is not a lot better.\n",
    "\n",
    "As this stage it is far better to convert the result to a SymPy matrix"
   ]
  },
  {
   "cell_type": "code",
   "execution_count": 22,
   "metadata": {},
   "outputs": [
    {
     "data": {
      "text/latex": [
       "$\\displaystyle \\left[\\begin{matrix}\\left(\\left(\\left(- \\sin{\\left(q_{1} \\right)} \\sin{\\left(q_{2} \\right)} \\cos{\\left(q_{0} \\right)} + \\cos{\\left(q_{0} \\right)} \\cos{\\left(q_{1} \\right)} \\cos{\\left(q_{2} \\right)}\\right) \\cos{\\left(q_{3} \\right)} - \\sin{\\left(q_{0} \\right)} \\sin{\\left(q_{3} \\right)}\\right) \\cos{\\left(q_{4} \\right)} + \\left(- \\sin{\\left(q_{1} \\right)} \\cos{\\left(q_{0} \\right)} \\cos{\\left(q_{2} \\right)} - \\sin{\\left(q_{2} \\right)} \\cos{\\left(q_{0} \\right)} \\cos{\\left(q_{1} \\right)}\\right) \\sin{\\left(q_{4} \\right)}\\right) \\cos{\\left(q_{5} \\right)} + \\left(- \\left(- \\sin{\\left(q_{1} \\right)} \\sin{\\left(q_{2} \\right)} \\cos{\\left(q_{0} \\right)} + \\cos{\\left(q_{0} \\right)} \\cos{\\left(q_{1} \\right)} \\cos{\\left(q_{2} \\right)}\\right) \\sin{\\left(q_{3} \\right)} - \\sin{\\left(q_{0} \\right)} \\cos{\\left(q_{3} \\right)}\\right) \\sin{\\left(q_{5} \\right)} & - \\left(\\left(\\left(- \\sin{\\left(q_{1} \\right)} \\sin{\\left(q_{2} \\right)} \\cos{\\left(q_{0} \\right)} + \\cos{\\left(q_{0} \\right)} \\cos{\\left(q_{1} \\right)} \\cos{\\left(q_{2} \\right)}\\right) \\cos{\\left(q_{3} \\right)} - \\sin{\\left(q_{0} \\right)} \\sin{\\left(q_{3} \\right)}\\right) \\cos{\\left(q_{4} \\right)} + \\left(- \\sin{\\left(q_{1} \\right)} \\cos{\\left(q_{0} \\right)} \\cos{\\left(q_{2} \\right)} - \\sin{\\left(q_{2} \\right)} \\cos{\\left(q_{0} \\right)} \\cos{\\left(q_{1} \\right)}\\right) \\sin{\\left(q_{4} \\right)}\\right) \\sin{\\left(q_{5} \\right)} + \\left(- \\left(- \\sin{\\left(q_{1} \\right)} \\sin{\\left(q_{2} \\right)} \\cos{\\left(q_{0} \\right)} + \\cos{\\left(q_{0} \\right)} \\cos{\\left(q_{1} \\right)} \\cos{\\left(q_{2} \\right)}\\right) \\sin{\\left(q_{3} \\right)} - \\sin{\\left(q_{0} \\right)} \\cos{\\left(q_{3} \\right)}\\right) \\cos{\\left(q_{5} \\right)} & - \\left(\\left(- \\sin{\\left(q_{1} \\right)} \\sin{\\left(q_{2} \\right)} \\cos{\\left(q_{0} \\right)} + \\cos{\\left(q_{0} \\right)} \\cos{\\left(q_{1} \\right)} \\cos{\\left(q_{2} \\right)}\\right) \\cos{\\left(q_{3} \\right)} - \\sin{\\left(q_{0} \\right)} \\sin{\\left(q_{3} \\right)}\\right) \\sin{\\left(q_{4} \\right)} + \\left(- \\sin{\\left(q_{1} \\right)} \\cos{\\left(q_{0} \\right)} \\cos{\\left(q_{2} \\right)} - \\sin{\\left(q_{2} \\right)} \\cos{\\left(q_{0} \\right)} \\cos{\\left(q_{1} \\right)}\\right) \\cos{\\left(q_{4} \\right)} & 0.15005 \\sin{\\left(q_{0} \\right)} - 0.0203 \\sin{\\left(q_{1} \\right)} \\sin{\\left(q_{2} \\right)} \\cos{\\left(q_{0} \\right)} - 0.4318 \\sin{\\left(q_{1} \\right)} \\cos{\\left(q_{0} \\right)} \\cos{\\left(q_{2} \\right)} - 0.4318 \\sin{\\left(q_{2} \\right)} \\cos{\\left(q_{0} \\right)} \\cos{\\left(q_{1} \\right)} + 0.0203 \\cos{\\left(q_{0} \\right)} \\cos{\\left(q_{1} \\right)} \\cos{\\left(q_{2} \\right)} + 0.4318 \\cos{\\left(q_{0} \\right)} \\cos{\\left(q_{1} \\right)}\\\\\\left(\\left(\\left(- \\sin{\\left(q_{0} \\right)} \\sin{\\left(q_{1} \\right)} \\sin{\\left(q_{2} \\right)} + \\sin{\\left(q_{0} \\right)} \\cos{\\left(q_{1} \\right)} \\cos{\\left(q_{2} \\right)}\\right) \\cos{\\left(q_{3} \\right)} + \\sin{\\left(q_{3} \\right)} \\cos{\\left(q_{0} \\right)}\\right) \\cos{\\left(q_{4} \\right)} + \\left(- \\sin{\\left(q_{0} \\right)} \\sin{\\left(q_{1} \\right)} \\cos{\\left(q_{2} \\right)} - \\sin{\\left(q_{0} \\right)} \\sin{\\left(q_{2} \\right)} \\cos{\\left(q_{1} \\right)}\\right) \\sin{\\left(q_{4} \\right)}\\right) \\cos{\\left(q_{5} \\right)} + \\left(- \\left(- \\sin{\\left(q_{0} \\right)} \\sin{\\left(q_{1} \\right)} \\sin{\\left(q_{2} \\right)} + \\sin{\\left(q_{0} \\right)} \\cos{\\left(q_{1} \\right)} \\cos{\\left(q_{2} \\right)}\\right) \\sin{\\left(q_{3} \\right)} + \\cos{\\left(q_{0} \\right)} \\cos{\\left(q_{3} \\right)}\\right) \\sin{\\left(q_{5} \\right)} & - \\left(\\left(\\left(- \\sin{\\left(q_{0} \\right)} \\sin{\\left(q_{1} \\right)} \\sin{\\left(q_{2} \\right)} + \\sin{\\left(q_{0} \\right)} \\cos{\\left(q_{1} \\right)} \\cos{\\left(q_{2} \\right)}\\right) \\cos{\\left(q_{3} \\right)} + \\sin{\\left(q_{3} \\right)} \\cos{\\left(q_{0} \\right)}\\right) \\cos{\\left(q_{4} \\right)} + \\left(- \\sin{\\left(q_{0} \\right)} \\sin{\\left(q_{1} \\right)} \\cos{\\left(q_{2} \\right)} - \\sin{\\left(q_{0} \\right)} \\sin{\\left(q_{2} \\right)} \\cos{\\left(q_{1} \\right)}\\right) \\sin{\\left(q_{4} \\right)}\\right) \\sin{\\left(q_{5} \\right)} + \\left(- \\left(- \\sin{\\left(q_{0} \\right)} \\sin{\\left(q_{1} \\right)} \\sin{\\left(q_{2} \\right)} + \\sin{\\left(q_{0} \\right)} \\cos{\\left(q_{1} \\right)} \\cos{\\left(q_{2} \\right)}\\right) \\sin{\\left(q_{3} \\right)} + \\cos{\\left(q_{0} \\right)} \\cos{\\left(q_{3} \\right)}\\right) \\cos{\\left(q_{5} \\right)} & - \\left(\\left(- \\sin{\\left(q_{0} \\right)} \\sin{\\left(q_{1} \\right)} \\sin{\\left(q_{2} \\right)} + \\sin{\\left(q_{0} \\right)} \\cos{\\left(q_{1} \\right)} \\cos{\\left(q_{2} \\right)}\\right) \\cos{\\left(q_{3} \\right)} + \\sin{\\left(q_{3} \\right)} \\cos{\\left(q_{0} \\right)}\\right) \\sin{\\left(q_{4} \\right)} + \\left(- \\sin{\\left(q_{0} \\right)} \\sin{\\left(q_{1} \\right)} \\cos{\\left(q_{2} \\right)} - \\sin{\\left(q_{0} \\right)} \\sin{\\left(q_{2} \\right)} \\cos{\\left(q_{1} \\right)}\\right) \\cos{\\left(q_{4} \\right)} & - 0.0203 \\sin{\\left(q_{0} \\right)} \\sin{\\left(q_{1} \\right)} \\sin{\\left(q_{2} \\right)} - 0.4318 \\sin{\\left(q_{0} \\right)} \\sin{\\left(q_{1} \\right)} \\cos{\\left(q_{2} \\right)} - 0.4318 \\sin{\\left(q_{0} \\right)} \\sin{\\left(q_{2} \\right)} \\cos{\\left(q_{1} \\right)} + 0.0203 \\sin{\\left(q_{0} \\right)} \\cos{\\left(q_{1} \\right)} \\cos{\\left(q_{2} \\right)} + 0.4318 \\sin{\\left(q_{0} \\right)} \\cos{\\left(q_{1} \\right)} - 0.15005 \\cos{\\left(q_{0} \\right)}\\\\\\left(\\left(- \\sin{\\left(q_{1} \\right)} \\sin{\\left(q_{2} \\right)} + \\cos{\\left(q_{1} \\right)} \\cos{\\left(q_{2} \\right)}\\right) \\sin{\\left(q_{4} \\right)} + \\left(\\sin{\\left(q_{1} \\right)} \\cos{\\left(q_{2} \\right)} + \\sin{\\left(q_{2} \\right)} \\cos{\\left(q_{1} \\right)}\\right) \\cos{\\left(q_{3} \\right)} \\cos{\\left(q_{4} \\right)}\\right) \\cos{\\left(q_{5} \\right)} - \\left(\\sin{\\left(q_{1} \\right)} \\cos{\\left(q_{2} \\right)} + \\sin{\\left(q_{2} \\right)} \\cos{\\left(q_{1} \\right)}\\right) \\sin{\\left(q_{3} \\right)} \\sin{\\left(q_{5} \\right)} & - \\left(\\left(- \\sin{\\left(q_{1} \\right)} \\sin{\\left(q_{2} \\right)} + \\cos{\\left(q_{1} \\right)} \\cos{\\left(q_{2} \\right)}\\right) \\sin{\\left(q_{4} \\right)} + \\left(\\sin{\\left(q_{1} \\right)} \\cos{\\left(q_{2} \\right)} + \\sin{\\left(q_{2} \\right)} \\cos{\\left(q_{1} \\right)}\\right) \\cos{\\left(q_{3} \\right)} \\cos{\\left(q_{4} \\right)}\\right) \\sin{\\left(q_{5} \\right)} - \\left(\\sin{\\left(q_{1} \\right)} \\cos{\\left(q_{2} \\right)} + \\sin{\\left(q_{2} \\right)} \\cos{\\left(q_{1} \\right)}\\right) \\sin{\\left(q_{3} \\right)} \\cos{\\left(q_{5} \\right)} & \\left(- \\sin{\\left(q_{1} \\right)} \\sin{\\left(q_{2} \\right)} + \\cos{\\left(q_{1} \\right)} \\cos{\\left(q_{2} \\right)}\\right) \\cos{\\left(q_{4} \\right)} - \\left(\\sin{\\left(q_{1} \\right)} \\cos{\\left(q_{2} \\right)} + \\sin{\\left(q_{2} \\right)} \\cos{\\left(q_{1} \\right)}\\right) \\sin{\\left(q_{4} \\right)} \\cos{\\left(q_{3} \\right)} & - 0.4318 \\sin{\\left(q_{1} \\right)} \\sin{\\left(q_{2} \\right)} + 0.0203 \\sin{\\left(q_{1} \\right)} \\cos{\\left(q_{2} \\right)} + 0.4318 \\sin{\\left(q_{1} \\right)} + 0.0203 \\sin{\\left(q_{2} \\right)} \\cos{\\left(q_{1} \\right)} + 0.4318 \\cos{\\left(q_{1} \\right)} \\cos{\\left(q_{2} \\right)} + 0.672\\\\0 & 0 & 0 & 1\\end{matrix}\\right]$"
      ],
      "text/plain": [
       "Matrix([\n",
       "[(((-sin(q_1)*sin(q_2)*cos(q_0) + cos(q_0)*cos(q_1)*cos(q_2))*cos(q_3) - sin(q_0)*sin(q_3))*cos(q_4) + (-sin(q_1)*cos(q_0)*cos(q_2) - sin(q_2)*cos(q_0)*cos(q_1))*sin(q_4))*cos(q_5) + (-(-sin(q_1)*sin(q_2)*cos(q_0) + cos(q_0)*cos(q_1)*cos(q_2))*sin(q_3) - sin(q_0)*cos(q_3))*sin(q_5), -(((-sin(q_1)*sin(q_2)*cos(q_0) + cos(q_0)*cos(q_1)*cos(q_2))*cos(q_3) - sin(q_0)*sin(q_3))*cos(q_4) + (-sin(q_1)*cos(q_0)*cos(q_2) - sin(q_2)*cos(q_0)*cos(q_1))*sin(q_4))*sin(q_5) + (-(-sin(q_1)*sin(q_2)*cos(q_0) + cos(q_0)*cos(q_1)*cos(q_2))*sin(q_3) - sin(q_0)*cos(q_3))*cos(q_5), -((-sin(q_1)*sin(q_2)*cos(q_0) + cos(q_0)*cos(q_1)*cos(q_2))*cos(q_3) - sin(q_0)*sin(q_3))*sin(q_4) + (-sin(q_1)*cos(q_0)*cos(q_2) - sin(q_2)*cos(q_0)*cos(q_1))*cos(q_4),  0.15005*sin(q_0) - 0.0203*sin(q_1)*sin(q_2)*cos(q_0) - 0.4318*sin(q_1)*cos(q_0)*cos(q_2) - 0.4318*sin(q_2)*cos(q_0)*cos(q_1) + 0.0203*cos(q_0)*cos(q_1)*cos(q_2) + 0.4318*cos(q_0)*cos(q_1)],\n",
       "[(((-sin(q_0)*sin(q_1)*sin(q_2) + sin(q_0)*cos(q_1)*cos(q_2))*cos(q_3) + sin(q_3)*cos(q_0))*cos(q_4) + (-sin(q_0)*sin(q_1)*cos(q_2) - sin(q_0)*sin(q_2)*cos(q_1))*sin(q_4))*cos(q_5) + (-(-sin(q_0)*sin(q_1)*sin(q_2) + sin(q_0)*cos(q_1)*cos(q_2))*sin(q_3) + cos(q_0)*cos(q_3))*sin(q_5), -(((-sin(q_0)*sin(q_1)*sin(q_2) + sin(q_0)*cos(q_1)*cos(q_2))*cos(q_3) + sin(q_3)*cos(q_0))*cos(q_4) + (-sin(q_0)*sin(q_1)*cos(q_2) - sin(q_0)*sin(q_2)*cos(q_1))*sin(q_4))*sin(q_5) + (-(-sin(q_0)*sin(q_1)*sin(q_2) + sin(q_0)*cos(q_1)*cos(q_2))*sin(q_3) + cos(q_0)*cos(q_3))*cos(q_5), -((-sin(q_0)*sin(q_1)*sin(q_2) + sin(q_0)*cos(q_1)*cos(q_2))*cos(q_3) + sin(q_3)*cos(q_0))*sin(q_4) + (-sin(q_0)*sin(q_1)*cos(q_2) - sin(q_0)*sin(q_2)*cos(q_1))*cos(q_4), -0.0203*sin(q_0)*sin(q_1)*sin(q_2) - 0.4318*sin(q_0)*sin(q_1)*cos(q_2) - 0.4318*sin(q_0)*sin(q_2)*cos(q_1) + 0.0203*sin(q_0)*cos(q_1)*cos(q_2) + 0.4318*sin(q_0)*cos(q_1) - 0.15005*cos(q_0)],\n",
       "[                                                                                                     ((-sin(q_1)*sin(q_2) + cos(q_1)*cos(q_2))*sin(q_4) + (sin(q_1)*cos(q_2) + sin(q_2)*cos(q_1))*cos(q_3)*cos(q_4))*cos(q_5) - (sin(q_1)*cos(q_2) + sin(q_2)*cos(q_1))*sin(q_3)*sin(q_5),                                                                                                      -((-sin(q_1)*sin(q_2) + cos(q_1)*cos(q_2))*sin(q_4) + (sin(q_1)*cos(q_2) + sin(q_2)*cos(q_1))*cos(q_3)*cos(q_4))*sin(q_5) - (sin(q_1)*cos(q_2) + sin(q_2)*cos(q_1))*sin(q_3)*cos(q_5),                                                             (-sin(q_1)*sin(q_2) + cos(q_1)*cos(q_2))*cos(q_4) - (sin(q_1)*cos(q_2) + sin(q_2)*cos(q_1))*sin(q_4)*cos(q_3),                                                         -0.4318*sin(q_1)*sin(q_2) + 0.0203*sin(q_1)*cos(q_2) + 0.4318*sin(q_1) + 0.0203*sin(q_2)*cos(q_1) + 0.4318*cos(q_1)*cos(q_2) + 0.672],\n",
       "[                                                                                                                                                                                                                                                                                        0,                                                                                                                                                                                                                                                                                          0,                                                                                                                                                                         0,                                                                                                                                                                                            1]])"
      ]
     },
     "execution_count": 22,
     "metadata": {},
     "output_type": "execute_result"
    }
   ],
   "source": [
    "from sympy import Matrix\n",
    "Matrix(T.A)"
   ]
  },
  {
   "cell_type": "markdown",
   "metadata": {},
   "source": [
    "which is decently pretty printed by SymPy.\n",
    "\n",
    "Often after a round of symbolic calculations there are simplifications that can be achieved. We can symbolically simplify each element of the `SE3` object by"
   ]
  },
  {
   "cell_type": "code",
   "execution_count": 23,
   "metadata": {},
   "outputs": [
    {
     "data": {
      "text/latex": [
       "$\\displaystyle \\left[\\begin{matrix}- \\left(\\left(\\sin{\\left(q_{0} \\right)} \\sin{\\left(q_{3} \\right)} - \\cos{\\left(q_{0} \\right)} \\cos{\\left(q_{3} \\right)} \\cos{\\left(q_{1} + q_{2} \\right)}\\right) \\cos{\\left(q_{4} \\right)} + \\sin{\\left(q_{4} \\right)} \\sin{\\left(q_{1} + q_{2} \\right)} \\cos{\\left(q_{0} \\right)}\\right) \\cos{\\left(q_{5} \\right)} - \\left(\\sin{\\left(q_{0} \\right)} \\cos{\\left(q_{3} \\right)} + \\sin{\\left(q_{3} \\right)} \\cos{\\left(q_{0} \\right)} \\cos{\\left(q_{1} + q_{2} \\right)}\\right) \\sin{\\left(q_{5} \\right)} & \\left(\\left(\\sin{\\left(q_{0} \\right)} \\sin{\\left(q_{3} \\right)} - \\cos{\\left(q_{0} \\right)} \\cos{\\left(q_{3} \\right)} \\cos{\\left(q_{1} + q_{2} \\right)}\\right) \\cos{\\left(q_{4} \\right)} + \\sin{\\left(q_{4} \\right)} \\sin{\\left(q_{1} + q_{2} \\right)} \\cos{\\left(q_{0} \\right)}\\right) \\sin{\\left(q_{5} \\right)} - \\left(\\sin{\\left(q_{0} \\right)} \\cos{\\left(q_{3} \\right)} + \\sin{\\left(q_{3} \\right)} \\cos{\\left(q_{0} \\right)} \\cos{\\left(q_{1} + q_{2} \\right)}\\right) \\cos{\\left(q_{5} \\right)} & \\left(\\sin{\\left(q_{0} \\right)} \\sin{\\left(q_{3} \\right)} - \\cos{\\left(q_{0} \\right)} \\cos{\\left(q_{3} \\right)} \\cos{\\left(q_{1} + q_{2} \\right)}\\right) \\sin{\\left(q_{4} \\right)} - \\sin{\\left(q_{1} + q_{2} \\right)} \\cos{\\left(q_{0} \\right)} \\cos{\\left(q_{4} \\right)} & 0.15005 \\sin{\\left(q_{0} \\right)} - 0.4318 \\sin{\\left(q_{1} + q_{2} \\right)} \\cos{\\left(q_{0} \\right)} + 0.4318 \\cos{\\left(q_{0} \\right)} \\cos{\\left(q_{1} \\right)} + 0.0203 \\cos{\\left(q_{0} \\right)} \\cos{\\left(q_{1} + q_{2} \\right)}\\\\\\left(\\left(\\sin{\\left(q_{0} \\right)} \\cos{\\left(q_{3} \\right)} \\cos{\\left(q_{1} + q_{2} \\right)} + \\sin{\\left(q_{3} \\right)} \\cos{\\left(q_{0} \\right)}\\right) \\cos{\\left(q_{4} \\right)} - \\sin{\\left(q_{0} \\right)} \\sin{\\left(q_{4} \\right)} \\sin{\\left(q_{1} + q_{2} \\right)}\\right) \\cos{\\left(q_{5} \\right)} - \\left(\\sin{\\left(q_{0} \\right)} \\sin{\\left(q_{3} \\right)} \\cos{\\left(q_{1} + q_{2} \\right)} - \\cos{\\left(q_{0} \\right)} \\cos{\\left(q_{3} \\right)}\\right) \\sin{\\left(q_{5} \\right)} & \\left(- \\left(\\sin{\\left(q_{0} \\right)} \\cos{\\left(q_{3} \\right)} \\cos{\\left(q_{1} + q_{2} \\right)} + \\sin{\\left(q_{3} \\right)} \\cos{\\left(q_{0} \\right)}\\right) \\cos{\\left(q_{4} \\right)} + \\sin{\\left(q_{0} \\right)} \\sin{\\left(q_{4} \\right)} \\sin{\\left(q_{1} + q_{2} \\right)}\\right) \\sin{\\left(q_{5} \\right)} + \\left(- \\sin{\\left(q_{0} \\right)} \\sin{\\left(q_{3} \\right)} \\cos{\\left(q_{1} + q_{2} \\right)} + \\cos{\\left(q_{0} \\right)} \\cos{\\left(q_{3} \\right)}\\right) \\cos{\\left(q_{5} \\right)} & - \\left(\\sin{\\left(q_{0} \\right)} \\cos{\\left(q_{3} \\right)} \\cos{\\left(q_{1} + q_{2} \\right)} + \\sin{\\left(q_{3} \\right)} \\cos{\\left(q_{0} \\right)}\\right) \\sin{\\left(q_{4} \\right)} - \\sin{\\left(q_{0} \\right)} \\sin{\\left(q_{1} + q_{2} \\right)} \\cos{\\left(q_{4} \\right)} & - 0.4318 \\sin{\\left(q_{0} \\right)} \\sin{\\left(q_{1} + q_{2} \\right)} + 0.4318 \\sin{\\left(q_{0} \\right)} \\cos{\\left(q_{1} \\right)} + 0.0203 \\sin{\\left(q_{0} \\right)} \\cos{\\left(q_{1} + q_{2} \\right)} - 0.15005 \\cos{\\left(q_{0} \\right)}\\\\\\left(\\sin{\\left(q_{4} \\right)} \\cos{\\left(q_{1} + q_{2} \\right)} + \\sin{\\left(q_{1} + q_{2} \\right)} \\cos{\\left(q_{3} \\right)} \\cos{\\left(q_{4} \\right)}\\right) \\cos{\\left(q_{5} \\right)} - \\sin{\\left(q_{3} \\right)} \\sin{\\left(q_{5} \\right)} \\sin{\\left(q_{1} + q_{2} \\right)} & - \\left(\\sin{\\left(q_{4} \\right)} \\cos{\\left(q_{1} + q_{2} \\right)} + \\sin{\\left(q_{1} + q_{2} \\right)} \\cos{\\left(q_{3} \\right)} \\cos{\\left(q_{4} \\right)}\\right) \\sin{\\left(q_{5} \\right)} - \\sin{\\left(q_{3} \\right)} \\sin{\\left(q_{1} + q_{2} \\right)} \\cos{\\left(q_{5} \\right)} & - \\sin{\\left(q_{4} \\right)} \\sin{\\left(q_{1} + q_{2} \\right)} \\cos{\\left(q_{3} \\right)} + \\cos{\\left(q_{4} \\right)} \\cos{\\left(q_{1} + q_{2} \\right)} & 0.4318 \\sin{\\left(q_{1} \\right)} + 0.0203 \\sin{\\left(q_{1} + q_{2} \\right)} + 0.4318 \\cos{\\left(q_{1} + q_{2} \\right)} + 0.672\\\\0 & 0 & 0 & 1\\end{matrix}\\right]$"
      ],
      "text/plain": [
       "Matrix([\n",
       "[-((sin(q_0)*sin(q_3) - cos(q_0)*cos(q_3)*cos(q_1 + q_2))*cos(q_4) + sin(q_4)*sin(q_1 + q_2)*cos(q_0))*cos(q_5) - (sin(q_0)*cos(q_3) + sin(q_3)*cos(q_0)*cos(q_1 + q_2))*sin(q_5),   ((sin(q_0)*sin(q_3) - cos(q_0)*cos(q_3)*cos(q_1 + q_2))*cos(q_4) + sin(q_4)*sin(q_1 + q_2)*cos(q_0))*sin(q_5) - (sin(q_0)*cos(q_3) + sin(q_3)*cos(q_0)*cos(q_1 + q_2))*cos(q_5),  (sin(q_0)*sin(q_3) - cos(q_0)*cos(q_3)*cos(q_1 + q_2))*sin(q_4) - sin(q_1 + q_2)*cos(q_0)*cos(q_4),  0.15005*sin(q_0) - 0.4318*sin(q_1 + q_2)*cos(q_0) + 0.4318*cos(q_0)*cos(q_1) + 0.0203*cos(q_0)*cos(q_1 + q_2)],\n",
       "[ ((sin(q_0)*cos(q_3)*cos(q_1 + q_2) + sin(q_3)*cos(q_0))*cos(q_4) - sin(q_0)*sin(q_4)*sin(q_1 + q_2))*cos(q_5) - (sin(q_0)*sin(q_3)*cos(q_1 + q_2) - cos(q_0)*cos(q_3))*sin(q_5), (-(sin(q_0)*cos(q_3)*cos(q_1 + q_2) + sin(q_3)*cos(q_0))*cos(q_4) + sin(q_0)*sin(q_4)*sin(q_1 + q_2))*sin(q_5) + (-sin(q_0)*sin(q_3)*cos(q_1 + q_2) + cos(q_0)*cos(q_3))*cos(q_5), -(sin(q_0)*cos(q_3)*cos(q_1 + q_2) + sin(q_3)*cos(q_0))*sin(q_4) - sin(q_0)*sin(q_1 + q_2)*cos(q_4), -0.4318*sin(q_0)*sin(q_1 + q_2) + 0.4318*sin(q_0)*cos(q_1) + 0.0203*sin(q_0)*cos(q_1 + q_2) - 0.15005*cos(q_0)],\n",
       "[                                                                        (sin(q_4)*cos(q_1 + q_2) + sin(q_1 + q_2)*cos(q_3)*cos(q_4))*cos(q_5) - sin(q_3)*sin(q_5)*sin(q_1 + q_2),                                                                         -(sin(q_4)*cos(q_1 + q_2) + sin(q_1 + q_2)*cos(q_3)*cos(q_4))*sin(q_5) - sin(q_3)*sin(q_1 + q_2)*cos(q_5),                                         -sin(q_4)*sin(q_1 + q_2)*cos(q_3) + cos(q_4)*cos(q_1 + q_2),                                        0.4318*sin(q_1) + 0.0203*sin(q_1 + q_2) + 0.4318*cos(q_1 + q_2) + 0.672],\n",
       "[                                                                                                                                                                               0,                                                                                                                                                                                 0,                                                                                                   0,                                                                                                              1]])"
      ]
     },
     "execution_count": 23,
     "metadata": {},
     "output_type": "execute_result"
    }
   ],
   "source": [
    "Ts = T.simplify()\n",
    "\n",
    "M = Matrix(Ts.A)\n",
    "M"
   ]
  },
  {
   "cell_type": "markdown",
   "metadata": {},
   "source": [
    "which is more compact (it takes a few seconds to compute). We can see that a trigometric _sum of angles_  substition has been performed, there are instances of sine and cosine of $q_1 + q_2$, the shoulder and elbow joints. This is to be expected since these joints are adjacent and have with parallel axes.\n",
    "\n",
    "We can _slice_ the end-effector translationfrom the SymPy matrix"
   ]
  },
  {
   "cell_type": "code",
   "execution_count": 24,
   "metadata": {},
   "outputs": [
    {
     "data": {
      "text/latex": [
       "$\\displaystyle \\left[\\begin{matrix}0.15005 \\sin{\\left(q_{0} \\right)} - 0.4318 \\sin{\\left(q_{1} + q_{2} \\right)} \\cos{\\left(q_{0} \\right)} + 0.4318 \\cos{\\left(q_{0} \\right)} \\cos{\\left(q_{1} \\right)} + 0.0203 \\cos{\\left(q_{0} \\right)} \\cos{\\left(q_{1} + q_{2} \\right)}\\\\- 0.4318 \\sin{\\left(q_{0} \\right)} \\sin{\\left(q_{1} + q_{2} \\right)} + 0.4318 \\sin{\\left(q_{0} \\right)} \\cos{\\left(q_{1} \\right)} + 0.0203 \\sin{\\left(q_{0} \\right)} \\cos{\\left(q_{1} + q_{2} \\right)} - 0.15005 \\cos{\\left(q_{0} \\right)}\\\\0.4318 \\sin{\\left(q_{1} \\right)} + 0.0203 \\sin{\\left(q_{1} + q_{2} \\right)} + 0.4318 \\cos{\\left(q_{1} + q_{2} \\right)} + 0.672\\end{matrix}\\right]$"
      ],
      "text/plain": [
       "Matrix([\n",
       "[ 0.15005*sin(q_0) - 0.4318*sin(q_1 + q_2)*cos(q_0) + 0.4318*cos(q_0)*cos(q_1) + 0.0203*cos(q_0)*cos(q_1 + q_2)],\n",
       "[-0.4318*sin(q_0)*sin(q_1 + q_2) + 0.4318*sin(q_0)*cos(q_1) + 0.0203*sin(q_0)*cos(q_1 + q_2) - 0.15005*cos(q_0)],\n",
       "[                                       0.4318*sin(q_1) + 0.0203*sin(q_1 + q_2) + 0.4318*cos(q_1 + q_2) + 0.672]])"
      ]
     },
     "execution_count": 24,
     "metadata": {},
     "output_type": "execute_result"
    }
   ],
   "source": [
    "M[:3,3]"
   ]
  },
  {
   "cell_type": "markdown",
   "metadata": {},
   "source": [
    "The floating point constants here have been inherited from the kinematic model we imported at [this step](#Robot-forward-kinematics).  It would be possible to replace the non-zero kinematic constants $a_i$ and $d_i$ with symbols created using `sym.symbol` as shown in [this section](#Creating-a-symbolic-variable)."
   ]
  },
  {
   "cell_type": "markdown",
   "metadata": {},
   "source": [
    "## Code generation\n",
    "We can now use some of SymPy's superpowers to turn our forward kinematic expression into code"
   ]
  },
  {
   "cell_type": "code",
   "execution_count": 25,
   "metadata": {},
   "outputs": [
    {
     "name": "stdout",
     "output_type": "stream",
     "text": [
      "T[0] = -((sin(q_0)*sin(q_3) - cos(q_0)*cos(q_3)*cos(q_1 + q_2))*cos(q_4) + sin(q_4)*sin(q_1 + q_2)*cos(q_0))*cos(q_5) - (sin(q_0)*cos(q_3) + sin(q_3)*cos(q_0)*cos(q_1 + q_2))*sin(q_5);\n",
      "T[1] = ((sin(q_0)*sin(q_3) - cos(q_0)*cos(q_3)*cos(q_1 + q_2))*cos(q_4) + sin(q_4)*sin(q_1 + q_2)*cos(q_0))*sin(q_5) - (sin(q_0)*cos(q_3) + sin(q_3)*cos(q_0)*cos(q_1 + q_2))*cos(q_5);\n",
      "T[2] = (sin(q_0)*sin(q_3) - cos(q_0)*cos(q_3)*cos(q_1 + q_2))*sin(q_4) - sin(q_1 + q_2)*cos(q_0)*cos(q_4);\n",
      "T[3] = 0.15004999999999999*sin(q_0) - 0.43180000000000002*sin(q_1 + q_2)*cos(q_0) + 0.43180000000000002*cos(q_0)*cos(q_1) + 0.020299999999999999*cos(q_0)*cos(q_1 + q_2);\n",
      "T[4] = ((sin(q_0)*cos(q_3)*cos(q_1 + q_2) + sin(q_3)*cos(q_0))*cos(q_4) - sin(q_0)*sin(q_4)*sin(q_1 + q_2))*cos(q_5) - (sin(q_0)*sin(q_3)*cos(q_1 + q_2) - cos(q_0)*cos(q_3))*sin(q_5);\n",
      "T[5] = (-(sin(q_0)*cos(q_3)*cos(q_1 + q_2) + sin(q_3)*cos(q_0))*cos(q_4) + sin(q_0)*sin(q_4)*sin(q_1 + q_2))*sin(q_5) + (-sin(q_0)*sin(q_3)*cos(q_1 + q_2) + cos(q_0)*cos(q_3))*cos(q_5);\n",
      "T[6] = -(sin(q_0)*cos(q_3)*cos(q_1 + q_2) + sin(q_3)*cos(q_0))*sin(q_4) - sin(q_0)*sin(q_1 + q_2)*cos(q_4);\n",
      "T[7] = -0.43180000000000002*sin(q_0)*sin(q_1 + q_2) + 0.43180000000000002*sin(q_0)*cos(q_1) + 0.020299999999999999*sin(q_0)*cos(q_1 + q_2) - 0.15004999999999999*cos(q_0);\n",
      "T[8] = (sin(q_4)*cos(q_1 + q_2) + sin(q_1 + q_2)*cos(q_3)*cos(q_4))*cos(q_5) - sin(q_3)*sin(q_5)*sin(q_1 + q_2);\n",
      "T[9] = -(sin(q_4)*cos(q_1 + q_2) + sin(q_1 + q_2)*cos(q_3)*cos(q_4))*sin(q_5) - sin(q_3)*sin(q_1 + q_2)*cos(q_5);\n",
      "T[10] = -sin(q_4)*sin(q_1 + q_2)*cos(q_3) + cos(q_4)*cos(q_1 + q_2);\n",
      "T[11] = 0.43180000000000013*sin(q_1) + 0.020299999999999999*sin(q_1 + q_2) + 0.43180000000000013*cos(q_1 + q_2) + 0.67200000000000004;\n",
      "T[12] = 0;\n",
      "T[13] = 0;\n",
      "T[14] = 0;\n",
      "T[15] = 1;\n"
     ]
    }
   ],
   "source": [
    "from sympy import ccode, pycode, octave_code\n",
    "print(ccode(M, assign_to=\"T\"))"
   ]
  },
  {
   "cell_type": "markdown",
   "metadata": {},
   "source": [
    "which is pure C code that does not require any linear algebra package to compute. We simply need to define the values of `q_0` to `q_5` in order to determine the end-effector pose. The result is computed using symbolically simplified expressions.  The code is not optimized, but we could expect the compiler to perform some additional simplification.\n",
    "\n",
    "The equivalent MATLAB code is"
   ]
  },
  {
   "cell_type": "code",
   "execution_count": 26,
   "metadata": {},
   "outputs": [
    {
     "data": {
      "text/plain": [
       "'[-((sin(q_0).*sin(q_3) - cos(q_0).*cos(q_3).*cos(q_1 + q_2)).*cos(q_4) + sin(q_4).*sin(q_1 + q_2).*cos(q_0)).*cos(q_5) - (sin(q_0).*cos(q_3) + sin(q_3).*cos(q_0).*cos(q_1 + q_2)).*sin(q_5) ((sin(q_0).*sin(q_3) - cos(q_0).*cos(q_3).*cos(q_1 + q_2)).*cos(q_4) + sin(q_4).*sin(q_1 + q_2).*cos(q_0)).*sin(q_5) - (sin(q_0).*cos(q_3) + sin(q_3).*cos(q_0).*cos(q_1 + q_2)).*cos(q_5) (sin(q_0).*sin(q_3) - cos(q_0).*cos(q_3).*cos(q_1 + q_2)).*sin(q_4) - sin(q_1 + q_2).*cos(q_0).*cos(q_4) 0.15005*sin(q_0) - 0.4318*sin(q_1 + q_2).*cos(q_0) + 0.4318*cos(q_0).*cos(q_1) + 0.0203*cos(q_0).*cos(q_1 + q_2); ((sin(q_0).*cos(q_3).*cos(q_1 + q_2) + sin(q_3).*cos(q_0)).*cos(q_4) - sin(q_0).*sin(q_4).*sin(q_1 + q_2)).*cos(q_5) - (sin(q_0).*sin(q_3).*cos(q_1 + q_2) - cos(q_0).*cos(q_3)).*sin(q_5) (-(sin(q_0).*cos(q_3).*cos(q_1 + q_2) + sin(q_3).*cos(q_0)).*cos(q_4) + sin(q_0).*sin(q_4).*sin(q_1 + q_2)).*sin(q_5) + (-sin(q_0).*sin(q_3).*cos(q_1 + q_2) + cos(q_0).*cos(q_3)).*cos(q_5) -(sin(q_0).*cos(q_3).*cos(q_1 + q_2) + sin(q_3).*cos(q_0)).*sin(q_4) - sin(q_0).*sin(q_1 + q_2).*cos(q_4) -0.4318*sin(q_0).*sin(q_1 + q_2) + 0.4318*sin(q_0).*cos(q_1) + 0.0203*sin(q_0).*cos(q_1 + q_2) - 0.15005*cos(q_0); (sin(q_4).*cos(q_1 + q_2) + sin(q_1 + q_2).*cos(q_3).*cos(q_4)).*cos(q_5) - sin(q_3).*sin(q_5).*sin(q_1 + q_2) -(sin(q_4).*cos(q_1 + q_2) + sin(q_1 + q_2).*cos(q_3).*cos(q_4)).*sin(q_5) - sin(q_3).*sin(q_1 + q_2).*cos(q_5) -sin(q_4).*sin(q_1 + q_2).*cos(q_3) + cos(q_4).*cos(q_1 + q_2) 0.4318*sin(q_1) + 0.0203*sin(q_1 + q_2) + 0.4318*cos(q_1 + q_2) + 0.672; 0 0 0 1]'"
      ]
     },
     "execution_count": 26,
     "metadata": {},
     "output_type": "execute_result"
    }
   ],
   "source": [
    "octave_code(M)"
   ]
  },
  {
   "cell_type": "markdown",
   "metadata": {},
   "source": [
    "We can also output Python code"
   ]
  },
  {
   "cell_type": "code",
   "execution_count": 27,
   "metadata": {},
   "outputs": [
    {
     "name": "stdout",
     "output_type": "stream",
     "text": [
      "ImmutableDenseMatrix([[-((math.sin(q_0)*math.sin(q_3) - math.cos(q_0)*math.cos(q_3)*math.cos(q_1 + q_2))*math.cos(q_4) + math.sin(q_4)*math.sin(q_1 + q_2)*math.cos(q_0))*math.cos(q_5) - (math.sin(q_0)*math.cos(q_3) + math.sin(q_3)*math.cos(q_0)*math.cos(q_1 + q_2))*math.sin(q_5), ((math.sin(q_0)*math.sin(q_3) - math.cos(q_0)*math.cos(q_3)*math.cos(q_1 + q_2))*math.cos(q_4) + math.sin(q_4)*math.sin(q_1 + q_2)*math.cos(q_0))*math.sin(q_5) - (math.sin(q_0)*math.cos(q_3) + math.sin(q_3)*math.cos(q_0)*math.cos(q_1 + q_2))*math.cos(q_5), (math.sin(q_0)*math.sin(q_3) - math.cos(q_0)*math.cos(q_3)*math.cos(q_1 + q_2))*math.sin(q_4) - math.sin(q_1 + q_2)*math.cos(q_0)*math.cos(q_4), 0.15005*math.sin(q_0) - 0.4318*math.sin(q_1 + q_2)*math.cos(q_0) + 0.4318*math.cos(q_0)*math.cos(q_1) + 0.0203*math.cos(q_0)*math.cos(q_1 + q_2)], [((math.sin(q_0)*math.cos(q_3)*math.cos(q_1 + q_2) + math.sin(q_3)*math.cos(q_0))*math.cos(q_4) - math.sin(q_0)*math.sin(q_4)*math.sin(q_1 + q_2))*math.cos(q_5) - (math.sin(q_0)*math.sin(q_3)*math.cos(q_1 + q_2) - math.cos(q_0)*math.cos(q_3))*math.sin(q_5), (-(math.sin(q_0)*math.cos(q_3)*math.cos(q_1 + q_2) + math.sin(q_3)*math.cos(q_0))*math.cos(q_4) + math.sin(q_0)*math.sin(q_4)*math.sin(q_1 + q_2))*math.sin(q_5) + (-math.sin(q_0)*math.sin(q_3)*math.cos(q_1 + q_2) + math.cos(q_0)*math.cos(q_3))*math.cos(q_5), -(math.sin(q_0)*math.cos(q_3)*math.cos(q_1 + q_2) + math.sin(q_3)*math.cos(q_0))*math.sin(q_4) - math.sin(q_0)*math.sin(q_1 + q_2)*math.cos(q_4), -0.4318*math.sin(q_0)*math.sin(q_1 + q_2) + 0.4318*math.sin(q_0)*math.cos(q_1) + 0.0203*math.sin(q_0)*math.cos(q_1 + q_2) - 0.15005*math.cos(q_0)], [(math.sin(q_4)*math.cos(q_1 + q_2) + math.sin(q_1 + q_2)*math.cos(q_3)*math.cos(q_4))*math.cos(q_5) - math.sin(q_3)*math.sin(q_5)*math.sin(q_1 + q_2), -(math.sin(q_4)*math.cos(q_1 + q_2) + math.sin(q_1 + q_2)*math.cos(q_3)*math.cos(q_4))*math.sin(q_5) - math.sin(q_3)*math.sin(q_1 + q_2)*math.cos(q_5), -math.sin(q_4)*math.sin(q_1 + q_2)*math.cos(q_3) + math.cos(q_4)*math.cos(q_1 + q_2), 0.4318*math.sin(q_1) + 0.0203*math.sin(q_1 + q_2) + 0.4318*math.cos(q_1 + q_2) + 0.672], [0, 0, 0, 1]])\n"
     ]
    }
   ],
   "source": [
    "print(pycode(M))"
   ]
  },
  {
   "cell_type": "markdown",
   "metadata": {},
   "source": [
    "Which constructs an instance of a SymPy `ImmutableDenseMatrix` which we can turn into a function"
   ]
  },
  {
   "cell_type": "code",
   "execution_count": 28,
   "metadata": {},
   "outputs": [],
   "source": [
    "from sympy import lambdify\n",
    "T_func = lambdify(q, M, modules='numpy')"
   ]
  },
  {
   "cell_type": "markdown",
   "metadata": {},
   "source": [
    "If we pass in the zero joint angles we get the familiar forward kinematic solution result"
   ]
  },
  {
   "cell_type": "code",
   "execution_count": 29,
   "metadata": {},
   "outputs": [
    {
     "data": {
      "text/plain": [
       "array([[ 1.     , -0.     , -0.     ,  0.4521 ],\n",
       "       [ 0.     ,  1.     , -0.     , -0.15005],\n",
       "       [ 0.     , -0.     ,  1.     ,  1.1038 ],\n",
       "       [ 0.     ,  0.     ,  0.     ,  1.     ]])"
      ]
     },
     "execution_count": 29,
     "metadata": {},
     "output_type": "execute_result"
    }
   ],
   "source": [
    "T_func(0, 0, 0, 0, 0, 0)"
   ]
  },
  {
   "cell_type": "markdown",
   "metadata": {},
   "source": [
    "SymPy also supports printing code in C++ (`cxxcode`), Fortran (`fcode`), JavaScript (`jscode`), Julia (`julia_code`), Rust (`rust_code`), Mathematica (`mathematica_code`) and Octave/MATLAB (`octave_code`).\n",
    "\n",
    "The [SymPy autowrap](https://docs.sympy.org/latest/modules/codegen.html#autowrap) capability automatically generates code, writes it to disk, compiles it, and imports it into the current session.  It creates a wrapper using Cython and creates a numerical function."
   ]
  }
 ],
 "metadata": {
  "kernelspec": {
   "display_name": "Python 3",
   "language": "python",
   "name": "python3"
  },
  "language_info": {
   "codemirror_mode": {
    "name": "ipython",
    "version": 3
   },
   "file_extension": ".py",
   "mimetype": "text/x-python",
   "name": "python",
   "nbconvert_exporter": "python",
   "pygments_lexer": "ipython3",
   "version": "3.8.5"
  },
  "varInspector": {
   "cols": {
    "lenName": 16,
    "lenType": 16,
    "lenVar": 40
   },
   "kernels_config": {
    "python": {
     "delete_cmd_postfix": "",
     "delete_cmd_prefix": "del ",
     "library": "var_list.py",
     "varRefreshCmd": "print(var_dic_list())"
    },
    "r": {
     "delete_cmd_postfix": ") ",
     "delete_cmd_prefix": "rm(",
     "library": "var_list.r",
     "varRefreshCmd": "cat(var_dic_list()) "
    }
   },
   "types_to_exclude": [
    "module",
    "function",
    "builtin_function_or_method",
    "instance",
    "_Feature"
   ],
   "window_display": false
  }
 },
 "nbformat": 4,
 "nbformat_minor": 4
}
